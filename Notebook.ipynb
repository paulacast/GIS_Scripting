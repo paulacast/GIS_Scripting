{
 "cells": [
  {
   "cell_type": "markdown",
   "metadata": {},
   "source": [
    "COVID-19 in Sao Paulo State, Brazil: Automating a Thematic Map & Chart"
   ]
  },
  {
   "cell_type": "code",
   "execution_count": 1,
   "metadata": {},
   "outputs": [],
   "source": [
    "#Import Module\n",
    "import arcpy\n",
    "\n",
    "#Set up the workspace - ******change to your workspace here *********\n",
    "arcpy.env.workspace = r'C:\\Users\\carvalhp\\Desktop\\GIS_Programming\\Project\\Paula_Project\\spatial\\sp_covid_data.gdb'"
   ]
  },
  {
   "cell_type": "code",
   "execution_count": 2,
   "metadata": {},
   "outputs": [
    {
     "data": {
      "text/html": [
       "<h2>Output</h2>C:\\Users\\carvalhp\\Desktop\\GIS_Programming\\Project\\Paula_Project\\spatial\\sp_covid_data.gdb\\sp_covid<h2>Messages</h2>Start Time: Thursday, November 12, 2020 11:34:25 AM<br/>Succeeded at Thursday, November 12, 2020 11:34:26 AM (Elapsed Time: 1.11 seconds)<br/><style>.rendered_html td, .rendered_html th {text-align: left;}.rendered_html tbody {border: 1px solid black;}</style>"
      ],
      "text/plain": [
       "<Result 'C:\\\\Users\\\\carvalhp\\\\Desktop\\\\GIS_Programming\\\\Project\\\\Paula_Project\\\\spatial\\\\sp_covid_data.gdb\\\\sp_covid'>"
      ]
     },
     "execution_count": 2,
     "metadata": {},
     "output_type": "execute_result"
    }
   ],
   "source": [
    "#Join the CSV data with the Sao Paulo State Shapefile\n",
    "sp_covid_joined_table = arcpy.AddJoin_management(\"sao_paulo\",\"NM_MUN\", \"Dados_covid_19_municipios\",\"Município\")\n",
    "\n",
    "arcpy.CopyFeatures_management(sp_covid_joined_table, \"sp_covid\")\n",
    "\n"
   ]
  },
  {
   "cell_type": "code",
   "execution_count": 3,
   "metadata": {},
   "outputs": [
    {
     "data": {
      "text/html": [
       "<h2>Output</h2>a Layer object<h2>Messages</h2>Start Time: Thursday, November 12, 2020 11:34:45 AM<br/>Succeeded at Thursday, November 12, 2020 11:34:45 AM (Elapsed Time: 0.26 seconds)<br/><style>.rendered_html td, .rendered_html th {text-align: left;}.rendered_html tbody {border: 1px solid black;}</style>"
      ],
      "text/plain": [
       "<Result 'sp_covid'>"
      ]
     },
     "execution_count": 3,
     "metadata": {},
     "output_type": "execute_result"
    }
   ],
   "source": [
    "#Adding fields to the table in order to calculate the death rate for each city\n",
    "#Here I am converting the fields containing the number of cases and the number of deaths to \"DOUBLE\" to perform the math\n",
    "sp_covid = \"sp_covid\"\n",
    "arcpy.AddField_management(sp_covid, \"Deathrate\", \"DOUBLE\")\n",
    "arcpy.AddField_management(sp_covid, \"num_cases\", \"DOUBLE\")\n",
    "arcpy.AddField_management(sp_covid, \"num_deaths\", \"DOUBLE\")\n",
    "arcpy.management.CalculateField(sp_covid, \"num_cases\", '!Dados_covid_19_municipios_Mun_Total_de_casos!', \"PYTHON3\", '', \"DOUBLE\")\n",
    "arcpy.management.CalculateField(sp_covid, \"num_deaths\", '!Dados_covid_19_municipios_Mun_Total_de_óbitos!', \"PYTHON3\", '', \"DOUBLE\")\n",
    "arcpy.management.CalculateField(sp_covid, \"Deathrate\", '!num_deaths! / !num_cases! * 100', \"PYTHON3\", '', \"DOUBLE\")"
   ]
  },
  {
   "cell_type": "code",
   "execution_count": 4,
   "metadata": {},
   "outputs": [],
   "source": [
    "#Generating the chart\n",
    "\n",
    "#listing the project, maps and layers to use\n",
    "aprx = arcpy.mp.ArcGISProject(\"current\")\n",
    "map = aprx.listMaps()[0]\n",
    "covid_layer = map.listLayers('sp_covid')[0]\n",
    "\n",
    "\n",
    "#Building the chart\n",
    "c = arcpy.Chart('MyChart')\n",
    "c.type = 'bar'\n",
    "c.title = 'Death / Num. of Cases in Sao Paulo State - November'\n",
    "c.xAxis.field = 'sao_paulo_NM_MUN'\n",
    "c.yAxis.field = 'Deathrate'\n",
    "c.bar.aggregation = 'SUM'\n",
    "c.xAxis.title = 'City'\n",
    "c.yAxis.title = 'Death %'\n",
    "c.addToLayer(covid_layer)"
   ]
  },
  {
   "cell_type": "code",
   "execution_count": 5,
   "metadata": {},
   "outputs": [],
   "source": [
    "#Generating the Thematic Map\n",
    "\n",
    "#Listing the project, map and layer to use\n",
    "p = arcpy.mp.ArcGISProject(\"CURRENT\")\n",
    "m = p.listMaps(\"Map\")[0]\n",
    "lyr = m.listLayers(\"sp_covid\")[0]\n",
    "sym = lyr.symbology\n",
    "\n",
    "#Rendering the chosen field with a color ramp\n",
    "sym.updateRenderer(\"GraduatedColorsRenderer\")\n",
    "sym.renderer.classificationField = 'Deathrate'\n",
    "sym.renderer.colorRamp=p.listColorRamps(\"Yellow-Orange-Red (Continuous)\")[0]\n",
    "\n",
    "#Breaking the class values\n",
    "classBreakValues = [0,2,6,8,10]\n",
    "classBreakLabels = [\"div 1\", \"div 2\", \"div 3\", \"div 4\", \"div 5\"]\n",
    "\n",
    "sym.renderer.breakCount = len(classBreakValues)\n",
    "count = 0\n",
    "\n",
    "#Looping through the classes to add them to the map with the corresponding color\n",
    "for brk in sym.renderer.classBreaks:\n",
    "    brk.upperBound = classBreakValues[count]\n",
    "    brk.label = classBreakLabels[count]\n",
    "    count += 1\n",
    "lyr.symbology = sym"
   ]
  },
  {
   "cell_type": "code",
   "execution_count": 6,
   "metadata": {},
   "outputs": [
    {
     "data": {
      "text/plain": [
       "'C:\\\\Users\\\\carvalhp\\\\Desktop\\\\GIS_Programming\\\\Project\\\\Paula_Project\\\\PDF\\\\map_sp.pdf'"
      ]
     },
     "execution_count": 6,
     "metadata": {},
     "output_type": "execute_result"
    }
   ],
   "source": [
    "#Export the layout to a PDF file\n",
    "aprx = arcpy.mp.ArcGISProject(\"CURRENT\")\n",
    "Layout = aprx.listLayouts(\"Layout3\")[0]\n",
    "#******change to your workspace here *********\n",
    "Layout.exportToPDF(r'C:\\Users\\carvalhp\\Desktop\\GIS_Programming\\Project\\Paula_Project\\PDF\\map_sp.pdf')"
   ]
  }
 ],
 "metadata": {
  "kernelspec": {
   "display_name": "ArcGISPro",
   "language": "Python",
   "name": "python3"
  },
  "language_info": {
   "file_extension": ".py",
   "name": "python",
   "version": "3"
  }
 },
 "nbformat": 4,
 "nbformat_minor": 2
}
